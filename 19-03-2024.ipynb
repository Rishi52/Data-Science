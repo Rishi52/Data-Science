{
 "cells": [
  {
   "cell_type": "markdown",
   "id": "53cae890-1a8b-45c3-8aa2-53c0a61d6701",
   "metadata": {},
   "source": [
    "# 1.Write a Python program to calculate the value of 'a' to the power of 'b' using recursion."
   ]
  },
  {
   "cell_type": "code",
   "execution_count": 1,
   "id": "35bf8cb6-a4a5-4848-972b-dc6616c3d513",
   "metadata": {},
   "outputs": [
    {
     "name": "stdin",
     "output_type": "stream",
     "text": [
      "Enter the base (a):  5\n",
      "Enter the exponent (b):  7\n"
     ]
    },
    {
     "name": "stdout",
     "output_type": "stream",
     "text": [
      "5^7 = 78125\n"
     ]
    }
   ],
   "source": [
    "def power(a, b):\n",
    "    if b == 0:\n",
    "        return 1\n",
    "    return a * power(a, b - 1)\n",
    "\n",
    "a = int(input(\"Enter the base (a): \"))\n",
    "b = int(input(\"Enter the exponent (b): \"))\n",
    "\n",
    "result = power(a, b)\n",
    "print(f\"{a}^{b} = {result}\")\n"
   ]
  },
  {
   "cell_type": "markdown",
   "id": "a8c84a99-2893-4f5c-9b2a-7730e2511112",
   "metadata": {},
   "source": [
    "# 2.Write a Python function to create and print a list where the values are the squares of numbers between 1 and 30"
   ]
  },
  {
   "cell_type": "code",
   "execution_count": 2,
   "id": "53434ed0-fc78-43bd-87a4-ce33d800823b",
   "metadata": {},
   "outputs": [
    {
     "name": "stdout",
     "output_type": "stream",
     "text": [
      "[1, 4, 9, 16, 25, 36, 49, 64, 81, 100, 121, 144, 169, 196, 225, 256, 289, 324, 361, 400, 441, 484, 529, 576, 625, 676, 729, 784, 841, 900]\n"
     ]
    }
   ],
   "source": [
    "def squares_list():\n",
    "    squares = [x ** 2 for x in range(1, 31)]  # List comprehension to generate squares\n",
    "    print(squares)\n",
    "\n",
    "squares_list()\n"
   ]
  },
  {
   "cell_type": "markdown",
   "id": "3ad01936-6b2f-48f8-b3e0-cf0aab45f7e8",
   "metadata": {},
   "source": [
    "# 3.Write a Python program to create a dictionary from two lists without losing duplicate values.\n",
    "# Sample lists: ['Class-V', 'Class-VI', 'Class-VII', 'Class-VIII'], [1, 2, 2, 3]\n",
    "# Expected Output: defaultdict(<class 'set'>, {'Class-V': {1}, 'Class-VI': {2}, 'Class-VII': {2}, 'Class-VIII': {3}})"
   ]
  },
  {
   "cell_type": "code",
   "execution_count": 3,
   "id": "dc2a8674-96db-4a78-9e64-3582cbb38a10",
   "metadata": {},
   "outputs": [
    {
     "name": "stdout",
     "output_type": "stream",
     "text": [
      "defaultdict(<class 'set'>, {'Class-V': {1}, 'Class-VI': {2}, 'Class-VII': {2}, 'Class-VIII': {3}})\n"
     ]
    }
   ],
   "source": [
    "from collections import defaultdict\n",
    "\n",
    "keys = ['Class-V', 'Class-VI', 'Class-VII', 'Class-VIII']\n",
    "values = [1, 2, 2, 3]\n",
    "\n",
    "result_dict = defaultdict(set)\n",
    "\n",
    "for key, value in zip(keys, values):\n",
    "    result_dict[key].add(value)\n",
    "\n",
    "print(result_dict)\n"
   ]
  }
 ],
 "metadata": {
  "kernelspec": {
   "display_name": "Python 3 (ipykernel)",
   "language": "python",
   "name": "python3"
  },
  "language_info": {
   "codemirror_mode": {
    "name": "ipython",
    "version": 3
   },
   "file_extension": ".py",
   "mimetype": "text/x-python",
   "name": "python",
   "nbconvert_exporter": "python",
   "pygments_lexer": "ipython3",
   "version": "3.13.2"
  }
 },
 "nbformat": 4,
 "nbformat_minor": 5
}
